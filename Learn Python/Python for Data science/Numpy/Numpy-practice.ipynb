{
 "cells": [
  {
   "cell_type": "code",
   "execution_count": 1,
   "metadata": {},
   "outputs": [],
   "source": [
    "import numpy as np"
   ]
  },
  {
   "cell_type": "code",
   "execution_count": 2,
   "metadata": {},
   "outputs": [
    {
     "name": "stdout",
     "output_type": "stream",
     "text": [
      "[1 2 4 5]\n",
      "<class 'numpy.ndarray'>\n"
     ]
    },
    {
     "data": {
      "text/plain": [
       "dtype('int32')"
      ]
     },
     "execution_count": 2,
     "metadata": {},
     "output_type": "execute_result"
    }
   ],
   "source": [
    "a = np.array([1, 2, 4, 5]) \n",
    "print(a)\n",
    "print(type(a))\n",
    "a.dtype"
   ]
  },
  {
   "cell_type": "code",
   "execution_count": 3,
   "metadata": {},
   "outputs": [
    {
     "name": "stdout",
     "output_type": "stream",
     "text": [
      "[1 2 4 5]\n",
      "<class 'numpy.ndarray'>\n"
     ]
    },
    {
     "data": {
      "text/plain": [
       "dtype('int32')"
      ]
     },
     "execution_count": 3,
     "metadata": {},
     "output_type": "execute_result"
    }
   ],
   "source": [
    "b = np.array((1, 2, 4, 5))\n",
    "print(b)\n",
    "print(type(b))\n",
    "b.dtype"
   ]
  },
  {
   "cell_type": "code",
   "execution_count": 4,
   "metadata": {},
   "outputs": [
    {
     "name": "stdout",
     "output_type": "stream",
     "text": [
      "[1 2 4 5]\n",
      "<class 'numpy.ndarray'>\n"
     ]
    },
    {
     "data": {
      "text/plain": [
       "dtype('int32')"
      ]
     },
     "execution_count": 4,
     "metadata": {},
     "output_type": "execute_result"
    }
   ],
   "source": [
    "a = np.array([1, 2, 4, 5,], dtype='i')\n",
    "print(a)\n",
    "print(type(a))\n",
    "a.dtype"
   ]
  },
  {
   "cell_type": "markdown",
   "metadata": {},
   "source": [
    "## Numpy(Dimensions)"
   ]
  },
  {
   "cell_type": "code",
   "execution_count": 5,
   "metadata": {},
   "outputs": [
    {
     "data": {
      "text/plain": [
       "2"
      ]
     },
     "execution_count": 5,
     "metadata": {},
     "output_type": "execute_result"
    }
   ],
   "source": [
    "a = np.array([[1,2,4],[4,5,6]])\n",
    "a.ndim"
   ]
  },
  {
   "cell_type": "code",
   "execution_count": 6,
   "metadata": {},
   "outputs": [
    {
     "data": {
      "text/plain": [
       "6"
      ]
     },
     "execution_count": 6,
     "metadata": {},
     "output_type": "execute_result"
    }
   ],
   "source": [
    "a[1,2]"
   ]
  },
  {
   "cell_type": "code",
   "execution_count": 7,
   "metadata": {},
   "outputs": [
    {
     "data": {
      "text/plain": [
       "3"
      ]
     },
     "execution_count": 7,
     "metadata": {},
     "output_type": "execute_result"
    }
   ],
   "source": [
    "c = np.array([[[1,3,4], [5,6,8], [0,4,-1]], [[1,3,4], [5,6,8], [0,4,-1]]])\n",
    "c.ndim"
   ]
  },
  {
   "cell_type": "code",
   "execution_count": 8,
   "metadata": {},
   "outputs": [
    {
     "data": {
      "text/plain": [
       "-1"
      ]
     },
     "execution_count": 8,
     "metadata": {},
     "output_type": "execute_result"
    }
   ],
   "source": [
    "c[1,2,2]"
   ]
  },
  {
   "cell_type": "code",
   "execution_count": 9,
   "metadata": {},
   "outputs": [
    {
     "data": {
      "text/plain": [
       "(2, 3, 3)"
      ]
     },
     "execution_count": 9,
     "metadata": {},
     "output_type": "execute_result"
    }
   ],
   "source": [
    "c.shape"
   ]
  },
  {
   "cell_type": "code",
   "execution_count": 10,
   "metadata": {},
   "outputs": [
    {
     "data": {
      "text/plain": [
       "numpy.ndarray"
      ]
     },
     "execution_count": 10,
     "metadata": {},
     "output_type": "execute_result"
    }
   ],
   "source": [
    "type(c)"
   ]
  },
  {
   "cell_type": "code",
   "execution_count": 11,
   "metadata": {},
   "outputs": [
    {
     "data": {
      "text/plain": [
       "2"
      ]
     },
     "execution_count": 11,
     "metadata": {},
     "output_type": "execute_result"
    }
   ],
   "source": [
    "c.shape[0]"
   ]
  },
  {
   "cell_type": "code",
   "execution_count": 12,
   "metadata": {},
   "outputs": [
    {
     "data": {
      "text/plain": [
       "3"
      ]
     },
     "execution_count": 12,
     "metadata": {},
     "output_type": "execute_result"
    }
   ],
   "source": [
    "c.shape[1]"
   ]
  },
  {
   "cell_type": "code",
   "execution_count": 13,
   "metadata": {},
   "outputs": [
    {
     "data": {
      "text/plain": [
       "3"
      ]
     },
     "execution_count": 13,
     "metadata": {},
     "output_type": "execute_result"
    }
   ],
   "source": [
    "c.shape[2]"
   ]
  },
  {
   "cell_type": "code",
   "execution_count": 14,
   "metadata": {},
   "outputs": [
    {
     "data": {
      "text/plain": [
       "18"
      ]
     },
     "execution_count": 14,
     "metadata": {},
     "output_type": "execute_result"
    }
   ],
   "source": [
    "c.size"
   ]
  },
  {
   "cell_type": "code",
   "execution_count": 15,
   "metadata": {},
   "outputs": [
    {
     "data": {
      "text/plain": [
       "72"
      ]
     },
     "execution_count": 15,
     "metadata": {},
     "output_type": "execute_result"
    }
   ],
   "source": [
    "c.nbytes"
   ]
  },
  {
   "cell_type": "markdown",
   "metadata": {},
   "source": [
    "## Numpy(np.arrange, reshape, random)"
   ]
  },
  {
   "cell_type": "code",
   "execution_count": 16,
   "metadata": {},
   "outputs": [
    {
     "name": "stdout",
     "output_type": "stream",
     "text": [
      "[ 0  1  2  3  4  5  6  7  8  9 10 11 12 13 14 15 16 17 18 19 20 21 22 23\n",
      " 24 25 26 27 28 29 30 31 32 33 34 35 36 37 38 39 40 41 42 43 44 45 46 47\n",
      " 48 49 50 51 52 53 54 55 56 57 58 59 60 61 62 63 64 65 66 67 68 69 70 71\n",
      " 72 73 74 75 76 77 78 79 80 81 82 83 84 85 86 87 88 89 90 91 92 93 94 95\n",
      " 96 97 98 99]\n"
     ]
    }
   ],
   "source": [
    "a = np.arange(100)\n",
    "print(a)"
   ]
  },
  {
   "cell_type": "code",
   "execution_count": 17,
   "metadata": {},
   "outputs": [
    {
     "name": "stdout",
     "output_type": "stream",
     "text": [
      "[10 11 12 13 14 15 16 17 18 19 20 21 22 23 24 25 26 27 28 29 30 31 32 33\n",
      " 34 35 36 37 38 39 40 41 42 43 44 45 46 47 48 49 50 51 52 53 54 55 56 57\n",
      " 58 59 60 61 62 63 64 65 66 67 68 69 70 71 72 73 74 75 76 77 78 79 80 81\n",
      " 82 83 84 85 86 87 88 89 90 91 92 93 94 95 96 97 98 99]\n"
     ]
    }
   ],
   "source": [
    "a = np.arange(10, 100)\n",
    "print(a)"
   ]
  },
  {
   "cell_type": "code",
   "execution_count": 18,
   "metadata": {},
   "outputs": [
    {
     "name": "stdout",
     "output_type": "stream",
     "text": [
      "[10 12 14 16 18 20 22 24 26 28 30 32 34 36 38 40 42 44 46 48 50 52 54 56\n",
      " 58 60 62 64 66 68 70 72 74 76 78 80 82 84 86 88 90 92 94 96 98]\n"
     ]
    }
   ],
   "source": [
    "a = np.arange(10, 100, 2)\n",
    "print(a)"
   ]
  },
  {
   "cell_type": "code",
   "execution_count": 20,
   "metadata": {},
   "outputs": [
    {
     "name": "stdout",
     "output_type": "stream",
     "text": [
      "range(0, 10)\n"
     ]
    }
   ],
   "source": [
    "b = range(10)\n",
    "print(b)"
   ]
  },
  {
   "cell_type": "code",
   "execution_count": 21,
   "metadata": {},
   "outputs": [
    {
     "name": "stdout",
     "output_type": "stream",
     "text": [
      "[0, 1, 2, 3, 4, 5, 6, 7, 8, 9]\n"
     ]
    }
   ],
   "source": [
    "b = list(range(10))\n",
    "print(b)"
   ]
  },
  {
   "cell_type": "code",
   "execution_count": 22,
   "metadata": {},
   "outputs": [
    {
     "name": "stdout",
     "output_type": "stream",
     "text": [
      "[8 0 2 7 4 3 9 1 6 5]\n"
     ]
    }
   ],
   "source": [
    "a = np.random.permutation(np.arange(10))\n",
    "print(a)"
   ]
  },
  {
   "cell_type": "code",
   "execution_count": 29,
   "metadata": {},
   "outputs": [
    {
     "name": "stdout",
     "output_type": "stream",
     "text": [
      "9\n"
     ]
    }
   ],
   "source": [
    "c = np.random.randint(3, 14)\n",
    "print(c)"
   ]
  },
  {
   "cell_type": "code",
   "execution_count": 28,
   "metadata": {},
   "outputs": [
    {
     "name": "stdout",
     "output_type": "stream",
     "text": [
      "<class 'int'>\n"
     ]
    }
   ],
   "source": [
    "print(type(c))"
   ]
  },
  {
   "cell_type": "code",
   "execution_count": 34,
   "metadata": {},
   "outputs": [
    {
     "data": {
      "text/plain": [
       "array([0.18442331, 0.31277276, 0.38341532, 0.27364253, 0.24138347,\n",
       "       0.03586429, 0.07743438, 0.2070365 , 0.65437625, 0.40035625,\n",
       "       0.64665578, 0.51334809, 0.22477607, 0.07245345, 0.43019673,\n",
       "       0.0589835 , 0.57095876, 0.85862016, 0.84238357, 0.98389521,\n",
       "       0.80547639, 0.70843198, 0.39101974, 0.92849473, 0.9203816 ,\n",
       "       0.64474638, 0.22200179, 0.15010288, 0.65135219, 0.33799581,\n",
       "       0.41300104, 0.98000361, 0.36756286, 0.09110764, 0.48944811,\n",
       "       0.16042541, 0.34118668, 0.50946988, 0.82695216, 0.59342165,\n",
       "       0.50369302, 0.03814358, 0.46340052, 0.27916437, 0.50945049,\n",
       "       0.00762619, 0.26594603, 0.73027456, 0.19830873, 0.97537161,\n",
       "       0.88442206, 0.77298519, 0.29510114, 0.89932154, 0.7132347 ,\n",
       "       0.41840154, 0.39348129, 0.60275495, 0.11066698, 0.00672276,\n",
       "       0.96298244, 0.75451493, 0.79269898, 0.28575425, 0.958394  ,\n",
       "       0.24014038, 0.98773804, 0.46368962, 0.92738829, 0.4543172 ,\n",
       "       0.61637774, 0.62508092, 0.58167521, 0.12128177, 0.34201735,\n",
       "       0.87842156, 0.69736287, 0.91031913, 0.20463719, 0.95363412,\n",
       "       0.27767901, 0.85621056, 0.99126971, 0.05125943, 0.61815698,\n",
       "       0.45206403, 0.11037907, 0.88101973, 0.19316906, 0.90107217,\n",
       "       0.13330383, 0.97438527, 0.88277702, 0.4968038 , 0.56725366,\n",
       "       0.11091811, 0.33589327, 0.09445233, 0.58596458, 0.34814206,\n",
       "       0.50079158, 0.805085  , 0.05906646, 0.48810074, 0.86966938,\n",
       "       0.2146927 , 0.80357433, 0.40811913, 0.69912983, 0.67643327,\n",
       "       0.02385406, 0.99117708, 0.11239987, 0.75635862, 0.93995489,\n",
       "       0.69368746, 0.79020635, 0.44692712, 0.46735962, 0.75912138,\n",
       "       0.0190491 , 0.01162762, 0.14010364, 0.4545839 , 0.39343672,\n",
       "       0.47408979, 0.04525514, 0.78963444, 0.87876771, 0.07209833,\n",
       "       0.34806957, 0.36710278, 0.30636358, 0.49092837, 0.57663122,\n",
       "       0.51838678, 0.18431904, 0.80156699, 0.04778427, 0.7445729 ,\n",
       "       0.8949901 , 0.56647482, 0.17361644, 0.07203684, 0.41841105,\n",
       "       0.5459919 , 0.18993786, 0.88555889, 0.81793251, 0.605092  ,\n",
       "       0.61560564, 0.49327955, 0.89488089, 0.38326338, 0.70940479,\n",
       "       0.16816934, 0.72040857, 0.19326945, 0.07997328, 0.80455997,\n",
       "       0.83705465, 0.61900356, 0.41257599, 0.81261788, 0.12739849,\n",
       "       0.03308864, 0.69181444, 0.38659461, 0.60882335, 0.15681514,\n",
       "       0.59301622, 0.54626711, 0.56361786, 0.82753908, 0.82204139,\n",
       "       0.49193748, 0.4243942 , 0.67392113, 0.55539903, 0.12207847,\n",
       "       0.76630422, 0.54241064, 0.23147108, 0.51503943, 0.75608232,\n",
       "       0.98754069, 0.00776123, 0.36752379, 0.93563657, 0.08063448,\n",
       "       0.52462753, 0.05078869, 0.07591961, 0.83133089, 0.18645485,\n",
       "       0.05558343, 0.85126166, 0.17514247, 0.23931684, 0.36582009,\n",
       "       0.02200659, 0.85745282, 0.64544426, 0.12992465, 0.16878925,\n",
       "       0.4614112 , 0.75398819, 0.0793711 , 0.82954903, 0.5758799 ,\n",
       "       0.48396262, 0.82584572, 0.8801622 , 0.14687029, 0.29134562,\n",
       "       0.22289386, 0.72780088, 0.13969166, 0.42468815, 0.04704755,\n",
       "       0.59683492, 0.70348003, 0.04086052, 0.91734653, 0.67077385,\n",
       "       0.09092991, 0.86210451, 0.88598064, 0.25844016, 0.04976716,\n",
       "       0.55830082, 0.84635144, 0.85419643, 0.73757594, 0.62923214,\n",
       "       0.32203106, 0.30153442, 0.76674962, 0.52105398, 0.46026444,\n",
       "       0.72671657, 0.44127108, 0.40377415, 0.64221739, 0.38443216,\n",
       "       0.89814808, 0.49944872, 0.04256769, 0.61045376, 0.40579379,\n",
       "       0.31641213, 0.64983576, 0.00984672, 0.55490784, 0.04440865,\n",
       "       0.19994406, 0.17780631, 0.56212639, 0.58616292, 0.92993567,\n",
       "       0.03544578, 0.39755677, 0.35924008, 0.40901995, 0.99687094,\n",
       "       0.53054345, 0.50802538, 0.89677702, 0.60860769, 0.33570796,\n",
       "       0.29051508, 0.11017465, 0.26319652, 0.24161259, 0.92398307,\n",
       "       0.07764157, 0.56266518, 0.75980431, 0.41180531, 0.22535623,\n",
       "       0.77733614, 0.60330889, 0.12178738, 0.97612629, 0.89604322,\n",
       "       0.96189994, 0.57246113, 0.45916874, 0.29028999, 0.16424213,\n",
       "       0.20681091, 0.57951444, 0.6076205 , 0.70192868, 0.54812574,\n",
       "       0.31748573, 0.52589342, 0.67518359, 0.88088934, 0.39114933,\n",
       "       0.40134154, 0.03329835, 0.51849445, 0.51489633, 0.21408551,\n",
       "       0.4750767 , 0.80338638, 0.94972179, 0.30669808, 0.66164762,\n",
       "       0.71361869, 0.60409689, 0.51800782, 0.44031018, 0.80063322,\n",
       "       0.06699378, 0.92389805, 0.97785983, 0.47206758, 0.61456105,\n",
       "       0.3113745 , 0.71765605, 0.95872468, 0.42760976, 0.81310344,\n",
       "       0.70298813, 0.12735189, 0.07848261, 0.97719309, 0.84054869,\n",
       "       0.13646213, 0.75322067, 0.1013859 , 0.01803838, 0.4444826 ,\n",
       "       0.27060749, 0.87196635, 0.41769424, 0.52701026, 0.6454438 ,\n",
       "       0.63092671, 0.36364345, 0.27767796, 0.5010739 , 0.89830449,\n",
       "       0.92563446, 0.79284905, 0.64921352, 0.80831112, 0.37467562,\n",
       "       0.33614829, 0.57891662, 0.12402157, 0.21346654, 0.79832189,\n",
       "       0.62629844, 0.97596918, 0.37966654, 0.9409152 , 0.15059136,\n",
       "       0.43711194, 0.34548112, 0.04517862, 0.89953907, 0.38607185,\n",
       "       0.2087273 , 0.02955433, 0.38937249, 0.89149748, 0.70276991,\n",
       "       0.30226811, 0.4512631 , 0.31597167, 0.24188775, 0.49626078,\n",
       "       0.92946436, 0.97426245, 0.80829778, 0.45175168, 0.682721  ,\n",
       "       0.57952059, 0.11281293, 0.39899228, 0.82826726, 0.90879644,\n",
       "       0.37629992, 0.6838232 , 0.52838394, 0.31942968, 0.0527358 ,\n",
       "       0.40955068, 0.22143995, 0.86904283, 0.33500942, 0.62224714,\n",
       "       0.49812342, 0.22900912, 0.32352408, 0.79779881, 0.5585502 ,\n",
       "       0.24226947, 0.37749612, 0.36464863, 0.04568864, 0.31189872,\n",
       "       0.58099678, 0.58488332, 0.77236242, 0.18445421, 0.80101136,\n",
       "       0.49337384, 0.09318376, 0.5077738 , 0.12633616, 0.63244721,\n",
       "       0.48437094, 0.15836281, 0.53702803, 0.03029922, 0.44322182,\n",
       "       0.49789392, 0.47347697, 0.82203641, 0.54800993, 0.76764457,\n",
       "       0.70820773, 0.99872253, 0.13294529, 0.72424618, 0.60219969,\n",
       "       0.01124045, 0.52434122, 0.71052953, 0.23023231, 0.21126238,\n",
       "       0.16908462, 0.22312904, 0.51294068, 0.83506138, 0.62513842,\n",
       "       0.99790433, 0.46989792, 0.74268362, 0.86712802, 0.2134101 ,\n",
       "       0.39704405, 0.70984924, 0.74849877, 0.2223052 , 0.27592451,\n",
       "       0.22523043, 0.79067843, 0.85556643, 0.21657908, 0.65077443,\n",
       "       0.5769998 , 0.95579551, 0.33912036, 0.15994661, 0.26679344,\n",
       "       0.1065769 , 0.4210065 , 0.4595638 , 0.22975241, 0.51981658,\n",
       "       0.45579759, 0.37759505, 0.87763978, 0.45227491, 0.09956604,\n",
       "       0.62958474, 0.38172768, 0.15544604, 0.94953668, 0.84927438,\n",
       "       0.98345944, 0.71112857, 0.7289175 , 0.11226748, 0.86635447,\n",
       "       0.46794611, 0.67989194, 0.0227207 , 0.52571   , 0.87003347,\n",
       "       0.70856955, 0.81391174, 0.06926298, 0.74863101, 0.32211746,\n",
       "       0.45135168, 0.33028486, 0.69918817, 0.88383271, 0.9935447 ,\n",
       "       0.935086  , 0.46020288, 0.36828463, 0.02323395, 0.62408453,\n",
       "       0.09181279, 0.74272704, 0.46008497, 0.75384114, 0.50933364,\n",
       "       0.33382039, 0.01542911, 0.98180575, 0.55399556, 0.77859342,\n",
       "       0.11444059, 0.31494392, 0.50910713, 0.47120367, 0.19303588,\n",
       "       0.49315042, 0.36334498, 0.39488516, 0.93595874, 0.07621261,\n",
       "       0.60691389, 0.13051092, 0.21486801, 0.64782428, 0.57581711,\n",
       "       0.3650863 , 0.8713723 , 0.81369339, 0.50276893, 0.74700056,\n",
       "       0.75251219, 0.4092383 , 0.43439378, 0.37191577, 0.41603436,\n",
       "       0.42577091, 0.36968276, 0.88301363, 0.52489969, 0.60762646,\n",
       "       0.94504952, 0.41152049, 0.38787887, 0.79057371, 0.10503401,\n",
       "       0.41687321, 0.83907196, 0.2340799 , 0.19205951, 0.94431716,\n",
       "       0.78135317, 0.35566323, 0.76491274, 0.12009896, 0.7455745 ,\n",
       "       0.74455833, 0.85043217, 0.60051868, 0.70741654, 0.33176281,\n",
       "       0.91394698, 0.18369531, 0.30491488, 0.39232796, 0.55452499,\n",
       "       0.89515718, 0.53262845, 0.66155532, 0.97242478, 0.41137846,\n",
       "       0.51209547, 0.16792119, 0.1651725 , 0.10989951, 0.19024652,\n",
       "       0.20445978, 0.6755681 , 0.32437372, 0.65352751, 0.54654086,\n",
       "       0.74784183, 0.27764489, 0.9134362 , 0.7427799 , 0.55148689,\n",
       "       0.90717934, 0.05193216, 0.31270507, 0.59793892, 0.26615436,\n",
       "       0.85307856, 0.60709981, 0.11953355, 0.23513766, 0.33200947,\n",
       "       0.41844666, 0.99078514, 0.87594651, 0.77435279, 0.68695521,\n",
       "       0.727934  , 0.37608913, 0.1300579 , 0.63766428, 0.2113679 ,\n",
       "       0.2338818 , 0.6903405 , 0.6753746 , 0.16289593, 0.22034739,\n",
       "       0.70895297, 0.33940499, 0.60665689, 0.7599153 , 0.00207317,\n",
       "       0.74803939, 0.29608328, 0.59155286, 0.0204723 , 0.08604702,\n",
       "       0.47125599, 0.13478855, 0.01894342, 0.16191973, 0.32851583,\n",
       "       0.91509876, 0.75001902, 0.93804543, 0.33360417, 0.581098  ,\n",
       "       0.07712988, 0.70002714, 0.64746122, 0.85876758, 0.08720877,\n",
       "       0.78665524, 0.77278926, 0.67260896, 0.59220329, 0.16316388,\n",
       "       0.80680506, 0.55156416, 0.45015099, 0.64398093, 0.06323822,\n",
       "       0.94088343, 0.29052527, 0.15631473, 0.31680421, 0.35833786,\n",
       "       0.45823795, 0.63861896, 0.56643179, 0.95562829, 0.90065719,\n",
       "       0.09427978, 0.55821589, 0.05440358, 0.13640569, 0.00454165,\n",
       "       0.95704   , 0.09224372, 0.12681778, 0.0635176 , 0.14969273,\n",
       "       0.95014328, 0.41675825, 0.07098526, 0.80230967, 0.89187728,\n",
       "       0.52436982, 0.9170061 , 0.52878066, 0.03702224, 0.7336558 ,\n",
       "       0.50579386, 0.96364463, 0.38393144, 0.57149086, 0.19546291,\n",
       "       0.6784061 , 0.15735202, 0.02037834, 0.35273991, 0.03956105,\n",
       "       0.31956217, 0.37956265, 0.46106087, 0.12521342, 0.99713918,\n",
       "       0.72920913, 0.61941861, 0.03371361, 0.84300373, 0.56669806,\n",
       "       0.02744985, 0.5555611 , 0.93766609, 0.01977532, 0.38461457,\n",
       "       0.44297092, 0.15817941, 0.33265086, 0.64310269, 0.33112404,\n",
       "       0.02488196, 0.40928077, 0.7957892 , 0.6895862 , 0.71332559,\n",
       "       0.14709461, 0.86544005, 0.44079376, 0.3524015 , 0.26732517,\n",
       "       0.49491948, 0.95238232, 0.21011271, 0.97850688, 0.46080471,\n",
       "       0.54045176, 0.17850803, 0.84778037, 0.19484225, 0.6188332 ,\n",
       "       0.6245689 , 0.03165273, 0.19779509, 0.57666968, 0.47892579,\n",
       "       0.63431069, 0.75925004, 0.56655278, 0.9382748 , 0.07565326,\n",
       "       0.95773276, 0.19999664, 0.62602196, 0.62276375, 0.71169904,\n",
       "       0.72292404, 0.61867648, 0.82227327, 0.22238096, 0.10030573,\n",
       "       0.42016454, 0.60454924, 0.69719158, 0.91380262, 0.3088592 ,\n",
       "       0.34544642, 0.11594258, 0.32829691, 0.92165073, 0.2343003 ,\n",
       "       0.33441018, 0.91904726, 0.35328408, 0.28623186, 0.96813436,\n",
       "       0.1451228 , 0.88115979, 0.71126492, 0.44445078, 0.97159117,\n",
       "       0.3960603 , 0.77078239, 0.61495026, 0.74638401, 0.46274945,\n",
       "       0.93866625, 0.63714183, 0.21143646, 0.77199925, 0.72145764,\n",
       "       0.55919357, 0.78593649, 0.39905326, 0.07191717, 0.45870973,\n",
       "       0.70116319, 0.44826247, 0.53599755, 0.93871302, 0.92864617,\n",
       "       0.92675338, 0.95028569, 0.08234109, 0.92404216, 0.41838854,\n",
       "       0.56431735, 0.22981675, 0.62922055, 0.82052066, 0.53215986,\n",
       "       0.51195935, 0.01280119, 0.66268524, 0.48984279, 0.10298755,\n",
       "       0.67360553, 0.77766003, 0.72852149, 0.08664433, 0.06596595,\n",
       "       0.97510791, 0.83588759, 0.95755743, 0.2559002 , 0.27150559,\n",
       "       0.18522931, 0.61304484, 0.17429832, 0.031125  , 0.20364572,\n",
       "       0.24705121, 0.47251484, 0.37036916, 0.72468273, 0.48668091,\n",
       "       0.03770285, 0.94549309, 0.18996438, 0.21435075, 0.60564897,\n",
       "       0.3089134 , 0.24133776, 0.8421903 , 0.41266175, 0.22641975,\n",
       "       0.17340465, 0.03664986, 0.05451274, 0.47931944, 0.65639331,\n",
       "       0.41962968, 0.62044273, 0.03286659, 0.53472469, 0.14209202,\n",
       "       0.12974257, 0.91704756, 0.8733487 , 0.95692744, 0.32766712,\n",
       "       0.82109805, 0.32663719, 0.14127794, 0.86910526, 0.99190439,\n",
       "       0.38570696, 0.71764369, 0.02141407, 0.0961302 , 0.74944285,\n",
       "       0.93306088, 0.41181293, 0.37389869, 0.48879849, 0.14271876,\n",
       "       0.14814712, 0.83446638, 0.30057474, 0.46066531, 0.05681464,\n",
       "       0.78411891, 0.27218293, 0.3872624 , 0.10987467, 0.30652083,\n",
       "       0.84322764, 0.92695899, 0.5860512 , 0.55171577, 0.68359216,\n",
       "       0.03872391, 0.33948306, 0.15649887, 0.48142672, 0.40064239,\n",
       "       0.23138175, 0.57126276, 0.6033412 , 0.09593128, 0.74253146,\n",
       "       0.90051829, 0.09624516, 0.71070368, 0.62920917, 0.57558773,\n",
       "       0.6767663 , 0.67698329, 0.67744275, 0.49642398, 0.60624965,\n",
       "       0.12459137, 0.33745036, 0.1199335 , 0.54543677, 0.34492009,\n",
       "       0.53087677, 0.74331343, 0.71438269, 0.78913303, 0.36892793,\n",
       "       0.2652591 , 0.40737544, 0.24498742, 0.23223059, 0.78961359,\n",
       "       0.03797782, 0.98792294, 0.87869279, 0.65161974, 0.89521993,\n",
       "       0.47750058, 0.79978757, 0.53760703, 0.35686012, 0.70006773,\n",
       "       0.93558719, 0.99738906, 0.40571831, 0.3818274 , 0.14561168,\n",
       "       0.65905832, 0.26064849, 0.08036963, 0.56677925, 0.27307382,\n",
       "       0.84835189, 0.96949548, 0.23908254, 0.81495786, 0.71147646,\n",
       "       0.11122936, 0.59056536, 0.13678639, 0.09820436, 0.81502592,\n",
       "       0.85749109, 0.47471602, 0.72632654, 0.3694179 , 0.10855687,\n",
       "       0.2418996 , 0.56039903, 0.44979486, 0.0430327 , 0.11119174,\n",
       "       0.73027133, 0.70419044, 0.24316924, 0.26206831, 0.72780692,\n",
       "       0.76680555, 0.60437424, 0.99756778, 0.24471185, 0.7455498 ,\n",
       "       0.89230021, 0.25629047, 0.25335893, 0.32281792, 0.59649323,\n",
       "       0.42148201, 0.20788716, 0.38995342, 0.35680694, 0.16744197,\n",
       "       0.69195555, 0.44087217, 0.8285291 , 0.01414747, 0.12939358,\n",
       "       0.8457115 , 0.60551682, 0.82468245, 0.88046778, 0.96854707,\n",
       "       0.72233065, 0.19284262, 0.90915846, 0.93354189, 0.07249456,\n",
       "       0.81528022, 0.94396843, 0.46216453, 0.24607999, 0.27434026,\n",
       "       0.24760271, 0.29108199, 0.64534333, 0.75223422, 0.45182366,\n",
       "       0.95921171, 0.34469053, 0.52619996, 0.28169034, 0.61058992])"
      ]
     },
     "execution_count": 34,
     "metadata": {},
     "output_type": "execute_result"
    }
   ],
   "source": [
    "a =np.random.random(1000)\n",
    "a"
   ]
  },
  {
   "cell_type": "code",
   "execution_count": 35,
   "metadata": {},
   "outputs": [
    {
     "data": {
      "text/plain": [
       "(array([ 8., 10., 10., 14., 11.,  8.,  6., 16.,  6., 12., 12.,  9., 14.,\n",
       "         9., 10.,  9., 10.,  6.,  9., 11., 10.,  9., 14., 10., 12.,  5.,\n",
       "         8., 10.,  7.,  4.,  8., 11., 10., 16.,  8.,  8., 13.,  9., 14.,\n",
       "        13., 10., 17.,  7.,  3., 11., 16., 11., 11.,  8., 12., 11., 10.,\n",
       "        11.,  8.,  8., 12., 11., 13.,  7.,  8., 19., 12., 13.,  6., 12.,\n",
       "         7.,  3., 12.,  6.,  8., 14., 13., 14.,  4., 16., 11.,  7.,  9.,\n",
       "         5., 10., 13.,  8., 11.,  7.,  9., 11.,  6., 10., 11., 11.,  7.,\n",
       "         9., 12., 13.,  7., 14.,  6., 12.,  7., 11.]),\n",
       " array([0.00207317, 0.01203966, 0.02200615, 0.03197265, 0.04193914,\n",
       "        0.05190564, 0.06187213, 0.07183862, 0.08180512, 0.09177161,\n",
       "        0.1017381 , 0.1117046 , 0.12167109, 0.13163758, 0.14160408,\n",
       "        0.15157057, 0.16153707, 0.17150356, 0.18147005, 0.19143655,\n",
       "        0.20140304, 0.21136953, 0.22133603, 0.23130252, 0.24126901,\n",
       "        0.25123551, 0.261202  , 0.2711685 , 0.28113499, 0.29110148,\n",
       "        0.30106798, 0.31103447, 0.32100096, 0.33096746, 0.34093395,\n",
       "        0.35090044, 0.36086694, 0.37083343, 0.38079993, 0.39076642,\n",
       "        0.40073291, 0.41069941, 0.4206659 , 0.43063239, 0.44059889,\n",
       "        0.45056538, 0.46053187, 0.47049837, 0.48046486, 0.49043136,\n",
       "        0.50039785, 0.51036434, 0.52033084, 0.53029733, 0.54026382,\n",
       "        0.55023032, 0.56019681, 0.5701633 , 0.5801298 , 0.59009629,\n",
       "        0.60006279, 0.61002928, 0.61999577, 0.62996227, 0.63992876,\n",
       "        0.64989525, 0.65986175, 0.66982824, 0.67979473, 0.68976123,\n",
       "        0.69972772, 0.70969421, 0.71966071, 0.7296272 , 0.7395937 ,\n",
       "        0.74956019, 0.75952668, 0.76949318, 0.77945967, 0.78942616,\n",
       "        0.79939266, 0.80935915, 0.81932564, 0.82929214, 0.83925863,\n",
       "        0.84922513, 0.85919162, 0.86915811, 0.87912461, 0.8890911 ,\n",
       "        0.89905759, 0.90902409, 0.91899058, 0.92895707, 0.93892357,\n",
       "        0.94889006, 0.95885656, 0.96882305, 0.97878954, 0.98875604,\n",
       "        0.99872253]),\n",
       " <BarContainer object of 100 artists>)"
      ]
     },
     "execution_count": 35,
     "metadata": {},
     "output_type": "execute_result"
    },
    {
     "data": {
      "image/png": "[encoded data removed]",
      "text/plain": [
       "<Figure size 640x480 with 1 Axes>"
      ]
     },
     "metadata": {},
     "output_type": "display_data"
    }
   ],
   "source": [
    "import matplotlib.pyplot as plt\n",
    "plt.hist(a, bins=100)"
   ]
  },
  {
   "cell_type": "code",
   "execution_count": 36,
   "metadata": {},
   "outputs": [
    {
     "data": {
      "text/plain": [
       "(array([  1.,   0.,   0.,   0.,   0.,   0.,   0.,   0.,   0.,   0.,   0.,\n",
       "          0.,   0.,   1.,   0.,   0.,   0.,   1.,   0.,   0.,   0.,   0.,\n",
       "          0.,   2.,   0.,   1.,   1.,   0.,   0.,   1.,   0.,   2.,   1.,\n",
       "          3.,   2.,   2.,   4.,   3.,   3.,   3.,   7.,   5.,   7.,   9.,\n",
       "          9.,  11.,  13.,  10.,  11.,   8.,  14.,  13.,  14.,  23.,  23.,\n",
       "         18.,  23.,  28.,  33.,  38.,  39.,  35.,  39.,  42.,  31.,  41.,\n",
       "         56.,  51.,  53.,  55.,  70.,  80.,  64.,  84.,  79.,  79.,  74.,\n",
       "         83.,  91., 106., 101.,  97., 110., 108., 110., 127., 124., 136.,\n",
       "        120., 123., 148., 163., 161., 147., 146., 139., 157., 166., 173.,\n",
       "        162., 180., 180., 165., 171., 161., 168., 143., 185., 157., 163.,\n",
       "        157., 152., 165., 140., 142., 163., 129., 134., 138., 145., 126.,\n",
       "        116., 116., 119., 117., 110., 100., 111., 116.,  83.,  89.,  93.,\n",
       "         89.,  83.,  86.,  78.,  65.,  65.,  52.,  58.,  56.,  46.,  48.,\n",
       "         41.,  34.,  39.,  39.,  27.,  33.,  35.,  25.,  28.,  19.,  20.,\n",
       "         16.,  17.,  15.,   9.,  10.,  10.,   9.,  13.,   5.,  11.,   3.,\n",
       "          3.,   9.,   2.,   6.,  10.,   2.,   4.,   2.,   0.,   4.,   3.,\n",
       "          3.,   4.,   1.,   4.,   2.,   0.,   0.,   0.,   1.,   1.,   0.,\n",
       "          1.,   0.,   0.,   1.,   0.,   0.,   0.,   0.,   0.,   0.,   0.,\n",
       "          0.,   1.]),\n",
       " array([-4.27778741, -4.23677089, -4.19575436, -4.15473783, -4.11372131,\n",
       "        -4.07270478, -4.03168826, -3.99067173, -3.94965521, -3.90863868,\n",
       "        -3.86762216, -3.82660563, -3.78558911, -3.74457258, -3.70355606,\n",
       "        -3.66253953, -3.62152301, -3.58050648, -3.53948996, -3.49847343,\n",
       "        -3.45745691, -3.41644038, -3.37542386, -3.33440733, -3.29339081,\n",
       "        -3.25237428, -3.21135775, -3.17034123, -3.1293247 , -3.08830818,\n",
       "        -3.04729165, -3.00627513, -2.9652586 , -2.92424208, -2.88322555,\n",
       "        -2.84220903, -2.8011925 , -2.76017598, -2.71915945, -2.67814293,\n",
       "        -2.6371264 , -2.59610988, -2.55509335, -2.51407683, -2.4730603 ,\n",
       "        -2.43204378, -2.39102725, -2.35001073, -2.3089942 , -2.26797768,\n",
       "        -2.22696115, -2.18594462, -2.1449281 , -2.10391157, -2.06289505,\n",
       "        -2.02187852, -1.980862  , -1.93984547, -1.89882895, -1.85781242,\n",
       "        -1.8167959 , -1.77577937, -1.73476285, -1.69374632, -1.6527298 ,\n",
       "        -1.61171327, -1.57069675, -1.52968022, -1.4886637 , -1.44764717,\n",
       "        -1.40663065, -1.36561412, -1.3245976 , -1.28358107, -1.24256455,\n",
       "        -1.20154802, -1.16053149, -1.11951497, -1.07849844, -1.03748192,\n",
       "        -0.99646539, -0.95544887, -0.91443234, -0.87341582, -0.83239929,\n",
       "        -0.79138277, -0.75036624, -0.70934972, -0.66833319, -0.62731667,\n",
       "        -0.58630014, -0.54528362, -0.50426709, -0.46325057, -0.42223404,\n",
       "        -0.38121752, -0.34020099, -0.29918447, -0.25816794, -0.21715142,\n",
       "        -0.17613489, -0.13511836, -0.09410184, -0.05308531, -0.01206879,\n",
       "         0.02894774,  0.06996426,  0.11098079,  0.15199731,  0.19301384,\n",
       "         0.23403036,  0.27504689,  0.31606341,  0.35707994,  0.39809646,\n",
       "         0.43911299,  0.48012951,  0.52114604,  0.56216256,  0.60317909,\n",
       "         0.64419561,  0.68521214,  0.72622866,  0.76724519,  0.80826172,\n",
       "         0.84927824,  0.89029477,  0.93131129,  0.97232782,  1.01334434,\n",
       "         1.05436087,  1.09537739,  1.13639392,  1.17741044,  1.21842697,\n",
       "         1.25944349,  1.30046002,  1.34147654,  1.38249307,  1.42350959,\n",
       "         1.46452612,  1.50554264,  1.54655917,  1.58757569,  1.62859222,\n",
       "         1.66960874,  1.71062527,  1.75164179,  1.79265832,  1.83367485,\n",
       "         1.87469137,  1.9157079 ,  1.95672442,  1.99774095,  2.03875747,\n",
       "         2.079774  ,  2.12079052,  2.16180705,  2.20282357,  2.2438401 ,\n",
       "         2.28485662,  2.32587315,  2.36688967,  2.4079062 ,  2.44892272,\n",
       "         2.48993925,  2.53095577,  2.5719723 ,  2.61298882,  2.65400535,\n",
       "         2.69502187,  2.7360384 ,  2.77705492,  2.81807145,  2.85908798,\n",
       "         2.9001045 ,  2.94112103,  2.98213755,  3.02315408,  3.0641706 ,\n",
       "         3.10518713,  3.14620365,  3.18722018,  3.2282367 ,  3.26925323,\n",
       "         3.31026975,  3.35128628,  3.3923028 ,  3.43331933,  3.47433585,\n",
       "         3.51535238,  3.5563689 ,  3.59738543,  3.63840195,  3.67941848,\n",
       "         3.720435  ,  3.76145153,  3.80246805,  3.84348458,  3.88450111,\n",
       "         3.92551763]),\n",
       " <BarContainer object of 200 artists>)"
      ]
     },
     "execution_count": 36,
     "metadata": {},
     "output_type": "execute_result"
    },
    {
     "data": {
      "image/png": "[encoded data removed]",
      "text/plain": [
       "<Figure size 640x480 with 1 Axes>"
      ]
     },
     "metadata": {},
     "output_type": "display_data"
    }
   ],
   "source": [
    "b =np.random.randn(10000)\n",
    "plt.hist(b, bins=200)"
   ]
  },
  {
   "cell_type": "code",
   "execution_count": 37,
   "metadata": {},
   "outputs": [],
   "source": [
    "c = np.random.rand(2, 3)"
   ]
  },
  {
   "cell_type": "code",
   "execution_count": 38,
   "metadata": {},
   "outputs": [
    {
     "data": {
      "text/plain": [
       "array([[0.57903558, 0.5681853 , 0.87200926],\n",
       "       [0.27327547, 0.11678027, 0.84232453]])"
      ]
     },
     "execution_count": 38,
     "metadata": {},
     "output_type": "execute_result"
    }
   ],
   "source": [
    "c"
   ]
  },
  {
   "cell_type": "code",
   "execution_count": 39,
   "metadata": {},
   "outputs": [
    {
     "data": {
      "text/plain": [
       "2"
      ]
     },
     "execution_count": 39,
     "metadata": {},
     "output_type": "execute_result"
    }
   ],
   "source": [
    "c.ndim"
   ]
  },
  {
   "cell_type": "code",
   "execution_count": 40,
   "metadata": {},
   "outputs": [],
   "source": [
    "c = np.random.rand(2,3, 4,2)"
   ]
  },
  {
   "cell_type": "code",
   "execution_count": 41,
   "metadata": {},
   "outputs": [
    {
     "data": {
      "text/plain": [
       "array([[[[0.31259907, 0.51700598],\n",
       "         [0.64258125, 0.52425737],\n",
       "         [0.33122107, 0.57111305],\n",
       "         [0.6541652 , 0.32380275]],\n",
       "\n",
       "        [[0.55001148, 0.73514797],\n",
       "         [0.44410997, 0.24965382],\n",
       "         [0.42107069, 0.53706176],\n",
       "         [0.64106968, 0.82830537]],\n",
       "\n",
       "        [[0.12963647, 0.18647305],\n",
       "         [0.48697433, 0.37618387],\n",
       "         [0.48425452, 0.09198384],\n",
       "         [0.08272818, 0.77368917]]],\n",
       "\n",
       "\n",
       "       [[[0.20353356, 0.01579209],\n",
       "         [0.52902225, 0.36221279],\n",
       "         [0.43001934, 0.20171517],\n",
       "         [0.87859841, 0.58889931]],\n",
       "\n",
       "        [[0.76901418, 0.8759899 ],\n",
       "         [0.33804745, 0.91199254],\n",
       "         [0.71415179, 0.33721723],\n",
       "         [0.55030861, 0.74434484]],\n",
       "\n",
       "        [[0.77434935, 0.04038034],\n",
       "         [0.4813351 , 0.36631486],\n",
       "         [0.70744638, 0.53015172],\n",
       "         [0.30900169, 0.84944324]]]])"
      ]
     },
     "execution_count": 41,
     "metadata": {},
     "output_type": "execute_result"
    }
   ],
   "source": [
    "c"
   ]
  },
  {
   "cell_type": "code",
   "execution_count": 42,
   "metadata": {},
   "outputs": [
    {
     "data": {
      "text/plain": [
       "4"
      ]
     },
     "execution_count": 42,
     "metadata": {},
     "output_type": "execute_result"
    }
   ],
   "source": [
    "c.ndim"
   ]
  },
  {
   "cell_type": "code",
   "execution_count": 43,
   "metadata": {},
   "outputs": [],
   "source": [
    "d = np.arange(100).reshape(4, 25)"
   ]
  },
  {
   "cell_type": "code",
   "execution_count": 44,
   "metadata": {},
   "outputs": [
    {
     "data": {
      "text/plain": [
       "array([[ 0,  1,  2,  3,  4,  5,  6,  7,  8,  9, 10, 11, 12, 13, 14, 15,\n",
       "        16, 17, 18, 19, 20, 21, 22, 23, 24],\n",
       "       [25, 26, 27, 28, 29, 30, 31, 32, 33, 34, 35, 36, 37, 38, 39, 40,\n",
       "        41, 42, 43, 44, 45, 46, 47, 48, 49],\n",
       "       [50, 51, 52, 53, 54, 55, 56, 57, 58, 59, 60, 61, 62, 63, 64, 65,\n",
       "        66, 67, 68, 69, 70, 71, 72, 73, 74],\n",
       "       [75, 76, 77, 78, 79, 80, 81, 82, 83, 84, 85, 86, 87, 88, 89, 90,\n",
       "        91, 92, 93, 94, 95, 96, 97, 98, 99]])"
      ]
     },
     "execution_count": 44,
     "metadata": {},
     "output_type": "execute_result"
    }
   ],
   "source": [
    "d"
   ]
  },
  {
   "cell_type": "code",
   "execution_count": 45,
   "metadata": {},
   "outputs": [
    {
     "data": {
      "text/plain": [
       "(4, 25)"
      ]
     },
     "execution_count": 45,
     "metadata": {},
     "output_type": "execute_result"
    }
   ],
   "source": [
    "d.shape"
   ]
  },
  {
   "cell_type": "code",
   "execution_count": 46,
   "metadata": {},
   "outputs": [],
   "source": [
    "e = np.arange(100).reshape(4, 5, 5)"
   ]
  },
  {
   "cell_type": "code",
   "execution_count": 47,
   "metadata": {},
   "outputs": [
    {
     "data": {
      "text/plain": [
       "array([[[ 0,  1,  2,  3,  4],\n",
       "        [ 5,  6,  7,  8,  9],\n",
       "        [10, 11, 12, 13, 14],\n",
       "        [15, 16, 17, 18, 19],\n",
       "        [20, 21, 22, 23, 24]],\n",
       "\n",
       "       [[25, 26, 27, 28, 29],\n",
       "        [30, 31, 32, 33, 34],\n",
       "        [35, 36, 37, 38, 39],\n",
       "        [40, 41, 42, 43, 44],\n",
       "        [45, 46, 47, 48, 49]],\n",
       "\n",
       "       [[50, 51, 52, 53, 54],\n",
       "        [55, 56, 57, 58, 59],\n",
       "        [60, 61, 62, 63, 64],\n",
       "        [65, 66, 67, 68, 69],\n",
       "        [70, 71, 72, 73, 74]],\n",
       "\n",
       "       [[75, 76, 77, 78, 79],\n",
       "        [80, 81, 82, 83, 84],\n",
       "        [85, 86, 87, 88, 89],\n",
       "        [90, 91, 92, 93, 94],\n",
       "        [95, 96, 97, 98, 99]]])"
      ]
     },
     "execution_count": 47,
     "metadata": {},
     "output_type": "execute_result"
    }
   ],
   "source": [
    "e"
   ]
  },
  {
   "cell_type": "code",
   "execution_count": 48,
   "metadata": {},
   "outputs": [
    {
     "data": {
      "text/plain": [
       "3"
      ]
     },
     "execution_count": 48,
     "metadata": {},
     "output_type": "execute_result"
    }
   ],
   "source": [
    "e.ndim"
   ]
  },
  {
   "cell_type": "code",
   "execution_count": 50,
   "metadata": {},
   "outputs": [
    {
     "data": {
      "text/plain": [
       "(4, 5, 5)"
      ]
     },
     "execution_count": 50,
     "metadata": {},
     "output_type": "execute_result"
    }
   ],
   "source": [
    "e.shape"
   ]
  },
  {
   "cell_type": "code",
   "execution_count": 51,
   "metadata": {},
   "outputs": [],
   "source": [
    "f = np.zeros(20)"
   ]
  },
  {
   "cell_type": "code",
   "execution_count": 52,
   "metadata": {},
   "outputs": [
    {
     "data": {
      "text/plain": [
       "array([0., 0., 0., 0., 0., 0., 0., 0., 0., 0., 0., 0., 0., 0., 0., 0., 0.,\n",
       "       0., 0., 0.])"
      ]
     },
     "execution_count": 52,
     "metadata": {},
     "output_type": "execute_result"
    }
   ],
   "source": [
    "f"
   ]
  },
  {
   "cell_type": "code",
   "execution_count": 53,
   "metadata": {},
   "outputs": [
    {
     "data": {
      "text/plain": [
       "array([1., 1., 1., 1., 1., 1., 1., 1., 1., 1., 1., 1., 1., 1., 1., 1., 1.,\n",
       "       1., 1., 1.])"
      ]
     },
     "execution_count": 53,
     "metadata": {},
     "output_type": "execute_result"
    }
   ],
   "source": [
    "f = np.ones(20)\n",
    "f"
   ]
  },
  {
   "cell_type": "code",
   "execution_count": null,
   "metadata": {},
   "outputs": [],
   "source": []
  }
 ],
 "metadata": {
  "kernelspec": {
   "display_name": "datascience",
   "language": "python",
   "name": "datascience"
  },
  "language_info": {
   "codemirror_mode": {
    "name": "ipython",
    "version": 3
   },
   "file_extension": ".py",
   "mimetype": "text/x-python",
   "name": "python",
   "nbconvert_exporter": "python",
   "pygments_lexer": "ipython3",
   "version": "3.10.9"
  }
 },
 "nbformat": 4,
 "nbformat_minor": 2
}
